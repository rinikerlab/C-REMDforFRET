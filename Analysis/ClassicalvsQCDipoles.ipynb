{
 "cells": [
  {
   "cell_type": "code",
   "execution_count": 6,
   "metadata": {},
   "outputs": [],
   "source": [
    "from openmm.app import AmberPrmtopFile\n",
    "import numpy as np\n",
    "import mdtraj\n",
    "import matplotlib.pyplot as plt\n",
    "from scipy.spatial.distance import cdist\n",
    "import pandas as pd\n",
    "from scipy.stats import linregress"
   ]
  },
  {
   "cell_type": "markdown",
   "metadata": {},
   "source": [
    "### Define classical calculations"
   ]
  },
  {
   "cell_type": "code",
   "execution_count": 7,
   "metadata": {},
   "outputs": [],
   "source": [
    "def get_angle(vector_1,vector_2):\n",
    "    unit_vector_1 = vector_1 / np.linalg.norm(vector_1)\n",
    "    unit_vector_2 = vector_2 / np.linalg.norm(vector_2)\n",
    "    dot_product = np.dot(unit_vector_1, unit_vector_2)\n",
    "    angle = np.arccos(dot_product)\n",
    "    return angle\n",
    "\n",
    "def get_unit(vector):\n",
    "    return vector / np.expand_dims(np.linalg.norm(vector,axis=1),1)\n",
    "\n",
    "def calculate_kappa_dis_dipole_for_frame(xyz,charges,c6_idx,c10_idx):\n",
    "    copper_dis = cdist(xyz,np.expand_dims(xyz[-1,:],0)).T[0]\n",
    "    copper_vec = xyz - np.expand_dims(xyz[-1,:],0)\n",
    "    charges = charges[:-1]\n",
    "    copper_dis = copper_dis[:-1]\n",
    "    copper_vec = copper_vec[:-1,:]\n",
    "    dipole = get_unit(copper_vec) * np.expand_dims(charges / (copper_dis**2),1)\n",
    "    pol_alpha = 0.148 * 3.09471 # angstrom ** 3\n",
    "    induced_dipol = np.sum(dipole,0) * -1 * pol_alpha / 0.529 # in atomic units.\n",
    "    dye_dipole = xyz[c6_idx] - xyz[c10_idx]\n",
    "    copperC6vec = xyz[c6_idx] - xyz[-1]\n",
    "    theta = get_angle(induced_dipol,dye_dipole)\n",
    "    alpha = get_angle(copperC6vec,induced_dipol)\n",
    "    delta = get_angle(copperC6vec,dye_dipole)\n",
    "    kappa = (np.cos(theta) - 3*np.cos(delta)*np.cos(alpha))**2\n",
    "    return kappa , copper_dis[c6_idx], induced_dipol"
   ]
  },
  {
   "cell_type": "code",
   "execution_count": 8,
   "metadata": {},
   "outputs": [],
   "source": [
    "import openmm.unit as unit\n",
    "import numpy as np"
   ]
  },
  {
   "cell_type": "code",
   "execution_count": 9,
   "metadata": {},
   "outputs": [
    {
     "data": {
      "text/plain": [
       "Quantity(value=3.75e-10, unit=centimeter*elementary charge)"
      ]
     },
     "execution_count": 9,
     "metadata": {},
     "output_type": "execute_result"
    }
   ],
   "source": [
    "epsilon = 8.8541878128 * 10**-12 * unit.ampere * unit.second / unit.volt / unit.meter\n",
    "alpha = 0.12 * 10e-24*unit.centimeter**3 * epsilon * 4 * np.pi\n",
    "\n",
    "c = 0.5\n",
    "r = 4\n",
    "val = c*unit.elementary_charge/(r*unit.angstrom)**2 / (4*np.pi* epsilon)\n",
    "\n",
    "alpha * val"
   ]
  },
  {
   "cell_type": "markdown",
   "metadata": {},
   "source": [
    "## Generate ADF input for reference calculations"
   ]
  },
  {
   "cell_type": "code",
   "execution_count": 10,
   "metadata": {},
   "outputs": [],
   "source": [
    "def create_adf_in(adf_input_array,filename):\n",
    "    filetxt = '''#!/bin/sh\n",
    "\n",
    "    $AMSBIN/ams -n 8 <<eor\n",
    "    \n",
    "    Task SinglePoint\n",
    "\n",
    "    System\n",
    "        Atoms\n",
    "   '''\n",
    "\n",
    "    filetxt += 'Cu  %s %s %s' % (adf_input_array[-1,0],adf_input_array[-1,1],adf_input_array[-1,2])\n",
    "\n",
    "    filetxt += '''\n",
    "        End\n",
    "        Charge 2\n",
    "        ElectrostaticEmbedding\n",
    "        MultipolePotential\n",
    "            Coordinates\n",
    "    '''\n",
    "\n",
    "    for i in adf_input_array[:-1]:\n",
    "      for t in i:\n",
    "         filetxt += t + \"\\t\"\n",
    "      filetxt += \"\\n\"\n",
    "\n",
    "    filetxt += '''\n",
    "      End\n",
    "      End\n",
    "      End\n",
    "      End\n",
    "\n",
    "      Engine ADF\n",
    "         Basis\n",
    "            Type QZ4P\n",
    "         End\n",
    "\n",
    "         XC\n",
    "            hybrid B3LYP\n",
    "         End\n",
    "\n",
    "      QTAIM\n",
    "      End\n",
    "      EndEngine\n",
    "eor\n",
    "    '''\n",
    "\n",
    "    with open(filename, 'w') as f:\n",
    "      f.write(filetxt)"
   ]
  },
  {
   "cell_type": "markdown",
   "metadata": {},
   "source": [
    "### Calculate Classically"
   ]
  },
  {
   "cell_type": "markdown",
   "metadata": {},
   "source": [
    "#### Extract charges"
   ]
  },
  {
   "attachments": {},
   "cell_type": "markdown",
   "metadata": {},
   "source": [
    "####  Copy topologies and starting coordinates"
   ]
  },
  {
   "cell_type": "code",
   "execution_count": 12,
   "metadata": {},
   "outputs": [],
   "source": [
    "# Calculate for L13 linker\n",
    "top = AmberPrmtopFile('../Simulation/topologies_and_starting_coordinates/K_Dye2_plus_helix_cu.top')\n",
    "system = top.createSystem()\n",
    "nonbonded_force = system.getForces()[3]\n",
    "charges = np.array([nonbonded_force.getParticleParameters(i)[0]._value for i in range(nonbonded_force.getNumParticles())])"
   ]
  },
  {
   "cell_type": "markdown",
   "metadata": {},
   "source": [
    "#### read in trajectory"
   ]
  },
  {
   "cell_type": "code",
   "execution_count": 13,
   "metadata": {},
   "outputs": [],
   "source": [
    "traj = mdtraj.load_hdf5('trajectories/plus100ns_start_water_300K_1to025_id3_r0_q1_rep0_4_output.h5')"
   ]
  },
  {
   "cell_type": "code",
   "execution_count": 14,
   "metadata": {},
   "outputs": [],
   "source": [
    "dipoles = []\n",
    "names = []\n",
    "np.random.seed(161311)\n",
    "for f in range(100):\n",
    "    frame = np.random.randint(0,len(traj))\n",
    "    xyz = traj[frame].xyz[0]\n",
    "\n",
    "    _,_,dipole = calculate_kappa_dis_dipole_for_frame(xyz*10,charges,11,14)\n",
    "    dipoles.append(dipole)\n",
    "    # CONVERTS TO ANGSTROM\n",
    "    adf_input_array = np.concatenate((xyz*10,np.expand_dims(np.array(charges,dtype='str'),axis=1)),axis=1)\n",
    "\n",
    "    # Generate runfile\n",
    "    create_adf_in(adf_input_array,'ADF_input/qcvsclassical_frame_%i.run' % frame)\n",
    "    names.append('qcvsclassical_frame_%i.run' % frame)\n",
    "    \n",
    "    # Execute (ADF must be installed)\n",
    "    # os.system('bash qcvsclassical.run > qcvsclassical.out')\n",
    "    # os.system('grep -A 4 \\'dip-x\\' qcvsclassical.out')\n",
    "    # \n",
    "    # grep -A 2 'dip-x' result.txt | tail -1 | awk '{print $4,$5,$6}' >> newresults.txt"
   ]
  },
  {
   "cell_type": "code",
   "execution_count": 16,
   "metadata": {},
   "outputs": [],
   "source": [
    "# read in results\n",
    "adf_dipoles = pd.read_table('ADF_results/new_results.txt',header=None,sep=' ').values\n",
    "\n",
    "# results are sorted based on name of the infile according to ls\n",
    "adf_in_sort = pd.read_table('ADF_results/order.txt',header=None).values\n",
    "adf_in_sort = [s[0] for s in adf_in_sort if '.run' in s[0]]"
   ]
  },
  {
   "cell_type": "code",
   "execution_count": 17,
   "metadata": {},
   "outputs": [],
   "source": [
    "pair_x = np.empty((100,3))\n",
    "pair_y = np.empty((100,3))\n",
    "for id in range(100):\n",
    "    pair_x[id] = adf_dipoles[np.where([adf_in_sort[i] == names[id] for i in range(100)])[0][0]]\n",
    "    pair_y[id] = dipoles[id]\n"
   ]
  },
  {
   "cell_type": "code",
   "execution_count": 19,
   "metadata": {},
   "outputs": [
    {
     "name": "stdout",
     "output_type": "stream",
     "text": [
      "0.0015139737822849734\n"
     ]
    },
    {
     "data": {
      "image/png": "[encoded data removed]",
      "text/plain": [
       "<Figure size 1080x720 with 2 Axes>"
      ]
     },
     "metadata": {
      "needs_background": "light"
     },
     "output_type": "display_data"
    }
   ],
   "source": [
    "\n",
    "\n",
    "xs = pair_x\n",
    "ys = pair_y\n",
    "plt.rcParams[\"figure.figsize\"] = (15,10)\n",
    "plt.rcParams.update({'font.size': 18})\n",
    "axd = plt.figure(constrained_layout=True).subplot_mosaic(\n",
    "    [\n",
    "        [\"trupre\",'hist']\n",
    "    ],\n",
    "    empty_sentinel=\"BLANK\",\n",
    "    gridspec_kw={\"width_ratios\":[2,1]}\n",
    ")\n",
    "\n",
    "axd['trupre'].scatter(xs,ys)\n",
    "_ = axd['hist'].hist(np.abs(xs.reshape((100*3)))-np.abs(ys.reshape((100*3))),log=False,bins=20)\n",
    "#_ = axd['hist'].hist(xs.reshape((100*3))-ys.reshape((100*3)),log=False,bins=20)\n",
    "axd['hist'].set_xlabel(r'$\\Delta$ QM/MM classical')\n",
    "axd['hist'].set_ylabel(r'Count')\n",
    "axd['trupre'].plot([-1,1],[-1,1],zorder=1)\n",
    "axd['trupre'].set_xlim([-0.1,0.1])\n",
    "axd['trupre'].set_ylim([-0.1,0.1])\n",
    "axd['hist'].set_xlim([-0.015,0.015])\n",
    "axd['trupre'].set_xlabel(r'QM/MM calculated $\\mu_A$ components x,y,z [a.u.]')\n",
    "axd['trupre'].set_ylabel(r'Classically calculated $\\mu_A$ components x,y,z [a.u.]')\n",
    "print(np.sqrt(np.mean((xs-ys)**2)))\n",
    "plt.savefig('Visualisations/QMvsCl.pdf')"
   ]
  },
  {
   "cell_type": "markdown",
   "metadata": {},
   "source": [
    "### Calculate $R^2$"
   ]
  },
  {
   "cell_type": "code",
   "execution_count": 20,
   "metadata": {},
   "outputs": [],
   "source": [
    "slope, intercept, r_value, p_value, std_err = linregress(pair_x.reshape(300),pair_y.reshape(300))"
   ]
  },
  {
   "cell_type": "code",
   "execution_count": 21,
   "metadata": {},
   "outputs": [
    {
     "data": {
      "text/plain": [
       "(2.0718547061165113e-05,\n",
       " 0.9858628384640266,\n",
       " 0.9962818015594758,\n",
       " 2.39157e-319,\n",
       " 0.004938594552487034)"
      ]
     },
     "execution_count": 21,
     "metadata": {},
     "output_type": "execute_result"
    }
   ],
   "source": [
    "intercept, slope, r_value, p_value, std_err"
   ]
  },
  {
   "cell_type": "code",
   "execution_count": null,
   "metadata": {},
   "outputs": [],
   "source": []
  }
 ],
 "metadata": {
  "kernelspec": {
   "display_name": "Python 3.9.13 ('implicitml')",
   "language": "python",
   "name": "python3"
  },
  "language_info": {
   "codemirror_mode": {
    "name": "ipython",
    "version": 3
   },
   "file_extension": ".py",
   "mimetype": "text/x-python",
   "name": "python",
   "nbconvert_exporter": "python",
   "pygments_lexer": "ipython3",
   "version": "3.9.13"
  },
  "orig_nbformat": 4,
  "vscode": {
   "interpreter": {
    "hash": "2d0208a35e97402c9e05e37b094834d8703bdcf89c65296add8e2a9c8b17454b"
   }
  }
 },
 "nbformat": 4,
 "nbformat_minor": 2
}
